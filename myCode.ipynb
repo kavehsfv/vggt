{
 "cells": [
  {
   "cell_type": "code",
   "execution_count": 2,
   "id": "ad4371d5",
   "metadata": {},
   "outputs": [
    {
     "name": "stdout",
     "output_type": "stream",
     "text": [
      "CUDA available: True\n",
      "CUDA version: 12.8\n",
      "Number of CUDA devices: 1\n",
      "Current CUDA device: 0\n",
      "Device name: NVIDIA GeForce RTX 3090\n"
     ]
    }
   ],
   "source": [
    "import torch\n",
    "print(f\"CUDA available: {torch.cuda.is_available()}\")\n",
    "print(f\"CUDA version: {torch.version.cuda}\")\n",
    "print(f\"Number of CUDA devices: {torch.cuda.device_count()}\")\n",
    "if torch.cuda.is_available():\n",
    "    print(f\"Current CUDA device: {torch.cuda.current_device()}\")\n",
    "    print(f\"Device name: {torch.cuda.get_device_name()}\")"
   ]
  },
  {
   "cell_type": "code",
   "execution_count": 1,
   "id": "6eade66f",
   "metadata": {},
   "outputs": [
    {
     "name": "stdout",
     "output_type": "stream",
     "text": [
      "device = cuda, autocast dtype = torch.bfloat16\n"
     ]
    },
    {
     "name": "stderr",
     "output_type": "stream",
     "text": [
      "/media/kaveh/Workspace/Projects/Code/vggt/vggt/models/vggt.py:67: FutureWarning: `torch.cuda.amp.autocast(args...)` is deprecated. Please use `torch.amp.autocast('cuda', args...)` instead.\n",
      "  with torch.cuda.amp.autocast(enabled=False):\n"
     ]
    }
   ],
   "source": [
    "import torch\n",
    "import os\n",
    "# figure out where we’re running\n",
    "device = torch.device(\"cuda\" if torch.cuda.is_available() else \"cpu\")\n",
    "\n",
    "# pick your autocast dtype\n",
    "if device.type == \"cuda\":\n",
    "    try:\n",
    "        major, minor = torch.cuda.get_device_capability(device)\n",
    "        # Ampere+ (8.x) supports bfloat16, otherwise go with float16\n",
    "        if major >= 8:\n",
    "            autocast_dtype = torch.bfloat16\n",
    "        else:\n",
    "            autocast_dtype = torch.float16\n",
    "    except RuntimeError as e:\n",
    "        # Protect against “CUDA unknown error … setting the available devices to be zero”\n",
    "        print(f\"[warning] couldn’t query CUDA capability: {e!r}\")\n",
    "        print(\" falling back to float16 autocast\")\n",
    "        autocast_dtype = torch.float16\n",
    "else:\n",
    "    # no GPU: you can still use autocast on CPU in PyTorch 2.x,\n",
    "    # or just run in float32\n",
    "    # autocast_dtype = torch.bfloat16   # if you want to try cpu bf16 on 2.x\n",
    "    autocast_dtype = torch.float32\n",
    "\n",
    "print(f\"device = {device}, autocast dtype = {autocast_dtype}\")\n",
    "\n",
    "# load your model and data exactly as before\n",
    "from vggt.models.vggt import VGGT\n",
    "from vggt.utils.load_fn import load_and_preprocess_images\n",
    "\n",
    "model = VGGT.from_pretrained(\"facebook/VGGT-1B\").to(device)\n",
    "image_paths = sorted(\n",
    "    f\"examples/kitchen/images/{f}\"\n",
    "    for f in os.listdir(\"examples/kitchen_me/images\")\n",
    "    if f.endswith(\".png\")\n",
    ")\n",
    "images = load_and_preprocess_images(image_paths).to(device)\n",
    "\n",
    "# inference\n",
    "with torch.no_grad():\n",
    "    # note the explicit device_type arg\n",
    "    with torch.amp.autocast(device.type, dtype=autocast_dtype):\n",
    "        preds = model(images)"
   ]
  },
  {
   "cell_type": "code",
   "execution_count": 2,
   "id": "97e2f422",
   "metadata": {},
   "outputs": [
    {
     "name": "stdout",
     "output_type": "stream",
     "text": [
      "Processing image 1/21\n",
      "Processing image 21/21\n",
      "Video saved to examples/videos/horse.mp4\n"
     ]
    }
   ],
   "source": [
    "import os\n",
    "import cv2\n",
    "import argparse\n",
    "from glob import glob\n",
    "import numpy as np\n",
    "\n",
    "def convert_images_to_video(input_folder, output_file, fps=30, sort_method='numeric'):\n",
    "    \"\"\"\n",
    "    Convert a folder of JPG images to an MP4 video.\n",
    "    \n",
    "    Args:\n",
    "        input_folder: Path to folder containing JPG images\n",
    "        output_file: Path to save the output MP4 file\n",
    "        fps: Frames per second for the output video\n",
    "        sort_method: Method to sort images ('numeric' or 'alphabetic')\n",
    "    \"\"\"\n",
    "    # Get all jpg files in the folder\n",
    "    image_files = glob(os.path.join(input_folder, \"*.jpg\"))\n",
    "    \n",
    "    if not image_files:\n",
    "        print(f\"No JPG images found in {input_folder}\")\n",
    "        return\n",
    "    \n",
    "    # Sort the files\n",
    "    if sort_method == 'numeric':\n",
    "        # Try to sort numerically by extracting numbers from filenames\n",
    "        try:\n",
    "            image_files.sort(key=lambda x: int(''.join(filter(str.isdigit, os.path.basename(x)))))\n",
    "        except:\n",
    "            # Fall back to alphabetical if numeric sorting fails\n",
    "            image_files.sort()\n",
    "    else:\n",
    "        # Sort alphabetically\n",
    "        image_files.sort()\n",
    "    \n",
    "    # Read the first image to get dimensions\n",
    "    first_img = cv2.imread(image_files[0])\n",
    "    if first_img is None:\n",
    "        print(f\"Failed to read image: {image_files[0]}\")\n",
    "        return\n",
    "    \n",
    "    h, w, layers = first_img.shape\n",
    "    size = (w, h)\n",
    "    \n",
    "    # Create VideoWriter object\n",
    "    fourcc = cv2.VideoWriter_fourcc(*'mp4v')  # MP4 codec\n",
    "    out = cv2.VideoWriter(output_file, fourcc, fps, size)\n",
    "    \n",
    "    # Add each image to the video\n",
    "    for i, image_file in enumerate(image_files):\n",
    "        img = cv2.imread(image_file)\n",
    "        if img is None:\n",
    "            print(f\"Skipping unreadable image: {image_file}\")\n",
    "            continue\n",
    "            \n",
    "        # Ensure image has the right dimensions\n",
    "        if img.shape[0] != h or img.shape[1] != w:\n",
    "            img = cv2.resize(img, size)\n",
    "            \n",
    "        out.write(img)\n",
    "        \n",
    "        # Print progress\n",
    "        if (i + 1) % 100 == 0 or i == 0 or i == len(image_files) - 1:\n",
    "            print(f\"Processing image {i+1}/{len(image_files)}\")\n",
    "    \n",
    "    # Release the VideoWriter\n",
    "    out.release()\n",
    "    print(f\"Video saved to {output_file}\")\n",
    "\n",
    "\n",
    "input_folder = \"examples/horse/images\"\n",
    "output_file = \"examples/videos/horse.mp4\"\n",
    "convert_images_to_video(input_folder, output_file, fps=2, sort_method='numeric')"
   ]
  }
 ],
 "metadata": {
  "kernelspec": {
   "display_name": "Python 3",
   "language": "python",
   "name": "python3"
  },
  "language_info": {
   "codemirror_mode": {
    "name": "ipython",
    "version": 3
   },
   "file_extension": ".py",
   "mimetype": "text/x-python",
   "name": "python",
   "nbconvert_exporter": "python",
   "pygments_lexer": "ipython3",
   "version": "3.10.0"
  }
 },
 "nbformat": 4,
 "nbformat_minor": 5
}
